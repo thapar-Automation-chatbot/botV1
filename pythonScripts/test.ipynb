{
 "cells": [
  {
   "cell_type": "code",
   "execution_count": 1,
   "metadata": {},
   "outputs": [],
   "source": [
    "import os"
   ]
  },
  {
   "cell_type": "code",
   "execution_count": 3,
   "metadata": {},
   "outputs": [
    {
     "data": {
      "text/plain": [
       "'c:\\\\Users\\\\samar\\\\Desktop\\\\Programming\\\\PYTHON\\\\ThaparGpt\\\\BotBot\\\\domain.yml'"
      ]
     },
     "execution_count": 3,
     "metadata": {},
     "output_type": "execute_result"
    }
   ],
   "source": [
    "curr_dir = os.getcwd()\n",
    "domain_file_path = os.path.join(os.path.dirname(curr_dir),'domain.yml')\n",
    "domain_file_path"
   ]
  },
  {
   "cell_type": "code",
   "execution_count": 59,
   "metadata": {},
   "outputs": [
    {
     "name": "stdout",
     "output_type": "stream",
     "text": [
      "\n"
     ]
    }
   ],
   "source": [
    "with open(domain_file_path,'w+') as domain_file:\n",
    "    domain_file.seek(0)\n",
    "    file_text = domain_file.read()\n",
    "    print(file_text)\n",
    "    pointer_loc_after_intents = file_text.find('intents:') + len('intents:')\n",
    "    # # domain_file.seek(pointer_loc_after_intents)\n",
    "    file_text = file_text[:pointer_loc_after_intents] + f\"\\n\\t- maut kab aaygi\" + file_text[pointer_loc_after_intents:]\n",
    "\n",
    "    domain_file.write(file_text)"
   ]
  },
  {
   "cell_type": "code",
   "execution_count": 60,
   "metadata": {},
   "outputs": [
    {
     "ename": "ImportError",
     "evalue": "cannot import name 'legacyversion' from 'packaging.version' (c:\\Users\\samar\\anaconda3\\envs\\ThaparChatBot\\lib\\site-packages\\packaging\\version.py)",
     "output_type": "error",
     "traceback": [
      "\u001b[1;31m---------------------------------------------------------------------------\u001b[0m",
      "\u001b[1;31mImportError\u001b[0m                               Traceback (most recent call last)",
      "Cell \u001b[1;32mIn[60], line 1\u001b[0m\n\u001b[1;32m----> 1\u001b[0m \u001b[39mfrom\u001b[39;00m \u001b[39mpackaging\u001b[39;00m\u001b[39m.\u001b[39;00m\u001b[39mversion\u001b[39;00m \u001b[39mimport\u001b[39;00m legacyversion\n\u001b[0;32m      3\u001b[0m \u001b[39mprint\u001b[39m(legacyversion(\u001b[39m\"\u001b[39m\u001b[39m1.0\u001b[39m\u001b[39m\"\u001b[39m))\n",
      "\u001b[1;31mImportError\u001b[0m: cannot import name 'legacyversion' from 'packaging.version' (c:\\Users\\samar\\anaconda3\\envs\\ThaparChatBot\\lib\\site-packages\\packaging\\version.py)"
     ]
    }
   ],
   "source": [
    "# if this code gives error in future -> pip uninstall ipykernel\n",
    "from packaging.version import legacyversion\n",
    "\n",
    "print(legacyversion(\"1.0\"))"
   ]
  }
 ],
 "metadata": {
  "kernelspec": {
   "display_name": "ThaparChatBot",
   "language": "python",
   "name": "python3"
  },
  "language_info": {
   "codemirror_mode": {
    "name": "ipython",
    "version": 3
   },
   "file_extension": ".py",
   "mimetype": "text/x-python",
   "name": "python",
   "nbconvert_exporter": "python",
   "pygments_lexer": "ipython3",
   "version": "3.8.17"
  },
  "orig_nbformat": 4
 },
 "nbformat": 4,
 "nbformat_minor": 2
}
